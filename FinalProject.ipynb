{
  "cells": [
    {
      "cell_type": "code",
      "source": [
        "from google.colab import files\n",
        "uploaded = files.upload()"
      ],
      "metadata": {
        "id": "mc3LOSCWAYJR",
        "colab": {
          "resources": {
            "http://localhost:8080/nbextensions/google.colab/files.js": {
              "data": "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",
              "ok": true,
              "headers": [
                [
                  "content-type",
                  "application/javascript"
                ]
              ],
              "status": 200,
              "status_text": ""
            }
          },
          "base_uri": "https://localhost:8080/",
          "height": 38
        },
        "outputId": "808a8529-5398-4406-83f7-d73b590f215e"
      },
      "id": "mc3LOSCWAYJR",
      "execution_count": null,
      "outputs": [
        {
          "output_type": "display_data",
          "data": {
            "text/plain": [
              "<IPython.core.display.HTML object>"
            ],
            "text/html": [
              "\n",
              "     <input type=\"file\" id=\"files-3e87efa0-a8f7-42ac-b61b-07f16b1fe72a\" name=\"files[]\" multiple disabled\n",
              "        style=\"border:none\" />\n",
              "     <output id=\"result-3e87efa0-a8f7-42ac-b61b-07f16b1fe72a\">\n",
              "      Upload widget is only available when the cell has been executed in the\n",
              "      current browser session. Please rerun this cell to enable.\n",
              "      </output>\n",
              "      <script src=\"/nbextensions/google.colab/files.js\"></script> "
            ]
          },
          "metadata": {}
        }
      ]
    },
    {
      "cell_type": "code",
      "execution_count": null,
      "id": "d8974914",
      "metadata": {
        "colab": {
          "base_uri": "https://localhost:8080/"
        },
        "id": "d8974914",
        "outputId": "ee666949-f569-46ec-ef39-ddf11c1bdca1"
      },
      "outputs": [
        {
          "output_type": "stream",
          "name": "stdout",
          "text": [
            "      Rk                       Player   Tm    2021-22    2022-23    2023-24  \\\n",
            "0      1      Stephen Curry\\curryst01  GSW  $45780966  $48070014  $51915615   \n",
            "1      2           John Wall\\walljo01  HOU  $44310840  $47366760        NaN   \n",
            "2      3  Russell Westbrook\\westbru01  LAL  $44211146  $47063478        NaN   \n",
            "3      4       James Harden\\hardeja01  PHI  $43848000  $46872000        NaN   \n",
            "4      5       LeBron James\\jamesle01  LAL  $41180544  $44474988        NaN   \n",
            "..   ...                          ...  ...        ...        ...        ...   \n",
            "612  613        Moses Brown\\brownmo01  CLE   $1720779        NaN        NaN   \n",
            "613  614       Juwan Morgan\\morgaju01  BOS     $19186   $1815677        NaN   \n",
            "614  615      Trent Forrest\\forretr01  UTA      $8558        NaN        NaN   \n",
            "615  616      Ish Wainright\\wainris01  PHO      $8558        NaN        NaN   \n",
            "616  617    Kessler Edwards\\edwarke02  BRK      $5318   $1563518        NaN   \n",
            "\n",
            "       2024-25    2025-26 2026-27    Signed Using  Guaranteed  \n",
            "0    $55761216  $59606817     NaN     Bird Rights  $261134628  \n",
            "1          NaN        NaN     NaN     Bird Rights   $44310840  \n",
            "2          NaN        NaN     NaN     Bird Rights   $44211146  \n",
            "3          NaN        NaN     NaN     Bird Rights   $43848000  \n",
            "4          NaN        NaN     NaN            Bird   $85655532  \n",
            "..         ...        ...     ...             ...         ...  \n",
            "612        NaN        NaN     NaN  Minimum Salary     $211046  \n",
            "613        NaN        NaN     NaN  Minimum Salary     $115116  \n",
            "614        NaN        NaN     NaN  Minimum Salary       $8558  \n",
            "615        NaN        NaN     NaN  Minimum Salary       $8558  \n",
            "616        NaN        NaN     NaN  Minimum Salary       $5318  \n",
            "\n",
            "[617 rows x 11 columns]\n"
          ]
        }
      ],
      "source": [
        "import numpy as np\n",
        "import pandas as pd\n",
        "import matplotlib.pyplot as pyplot\n",
        "from scipy.stats import pearsonr\n",
        "from sklearn.model_selection import train_test_split \n",
        "from sklearn.linear_model import LinearRegression\n",
        "from sklearn import metrics\n",
        "import math\n",
        "pd.options.mode.chained_assignment = None\n",
        "salary = pd.read_csv ('salaries.txt')\n",
        "print(salary)"
      ]
    },
    {
      "cell_type": "code",
      "execution_count": null,
      "id": "bb844c19",
      "metadata": {
        "id": "bb844c19",
        "colab": {
          "base_uri": "https://localhost:8080/"
        },
        "outputId": "0336493e-1063-4b58-d308-719a697fae86"
      },
      "outputs": [
        {
          "output_type": "stream",
          "name": "stdout",
          "text": [
            "                          Player   Tm    2021-22\n",
            "0        Stephen Curry\\curryst01  GSW  $45780966\n",
            "1             John Wall\\walljo01  HOU  $44310840\n",
            "2    Russell Westbrook\\westbru01  LAL  $44211146\n",
            "3         James Harden\\hardeja01  PHI  $43848000\n",
            "4         LeBron James\\jamesle01  LAL  $41180544\n",
            "..                           ...  ...        ...\n",
            "612        Moses Brown\\brownmo01  CLE   $1720779\n",
            "613       Juwan Morgan\\morgaju01  BOS     $19186\n",
            "614      Trent Forrest\\forretr01  UTA      $8558\n",
            "615      Ish Wainright\\wainris01  PHO      $8558\n",
            "616    Kessler Edwards\\edwarke02  BRK      $5318\n",
            "\n",
            "[617 rows x 3 columns]\n"
          ]
        }
      ],
      "source": [
        "df1 = pd.DataFrame(salary)\n",
        "df1 = df1.drop(columns = [\"Rk\", \"2022-23\", \"2023-24\", \"2024-25\", \"2025-26\", \"2026-27\", \"Signed Using\", \"Guaranteed\"])\n",
        "print(df1)"
      ]
    },
    {
      "cell_type": "code",
      "source": [
        "for i in range(0, len(df1)):\n",
        "  mark = df1['Player'][i].index('\\\\')\n",
        "  df1['Player'][i] = df1['Player'][i][:mark]\n",
        "print(df1['Player'])"
      ],
      "metadata": {
        "id": "2RSCO820ESGB",
        "colab": {
          "base_uri": "https://localhost:8080/"
        },
        "outputId": "f49c6508-a3fa-4800-c6bb-eed1f62d2f5f"
      },
      "id": "2RSCO820ESGB",
      "execution_count": null,
      "outputs": [
        {
          "output_type": "stream",
          "name": "stdout",
          "text": [
            "0          Stephen Curry\n",
            "1              John Wall\n",
            "2      Russell Westbrook\n",
            "3           James Harden\n",
            "4           LeBron James\n",
            "             ...        \n",
            "612          Moses Brown\n",
            "613         Juwan Morgan\n",
            "614        Trent Forrest\n",
            "615        Ish Wainright\n",
            "616      Kessler Edwards\n",
            "Name: Player, Length: 617, dtype: object\n"
          ]
        }
      ]
    },
    {
      "cell_type": "code",
      "execution_count": null,
      "id": "db552705",
      "metadata": {
        "id": "db552705",
        "colab": {
          "base_uri": "https://localhost:8080/"
        },
        "outputId": "5cec3721-c0c4-4bca-f626-9c17637c6599"
      },
      "outputs": [
        {
          "output_type": "stream",
          "name": "stdout",
          "text": [
            "      Rk                    Player Pos  Age   Tm   G    MP   PER    TS%  \\\n",
            "0      1     Deni Avdija\\avdijde01  SF   21  WAS  82  1984  11.6  0.536   \n",
            "1      2        Saddiq Bey\\beysa01  SF   22  DET  82  2704  14.0  0.529   \n",
            "2      3   Mikal Bridges\\bridgmi01  SF   25  PHO  82  2854  14.4  0.627   \n",
            "3      4    Kevon Looney\\looneke01   C   25  GSW  82  1732  15.7  0.586   \n",
            "4      5   Dwight Powell\\poweldw01   C   30  DAL  82  1798  18.1  0.725   \n",
            "..   ...                       ...  ..  ...  ...  ..   ...   ...    ...   \n",
            "600  601      Ade Murkey\\murkead01  SG   24  SAC   1     1   0.0    NaN   \n",
            "601  602    Malik Newman\\newmama01  PG   24  CLE   1     8  28.6  0.680   \n",
            "602  603   Jaysean Paige\\paigeja01  PG   27  DET   1     7 -22.2  0.000   \n",
            "603  604  Trayvon Palmer\\palmetr01  SG   27  DET   1    17  -5.7  0.000   \n",
            "604  605        Matt Ryan\\ryanma01  SF   24  BOS   1     5   3.5  0.300   \n",
            "\n",
            "      3PAr  ...  TOV%  USG%  OWS  DWS   WS  WS/48  OBPM  DBPM   BPM  VORP  \n",
            "0    0.447  ...  12.0  16.3  0.6  1.8  2.4  0.058  -2.1   0.4  -1.7   0.1  \n",
            "1    0.537  ...   7.1  21.3  2.4  1.6  4.0  0.071   0.9  -1.2  -0.3   1.2  \n",
            "2    0.364  ...   6.8  15.0  5.2  3.7  8.9  0.150   0.5   1.1   1.6   2.6  \n",
            "3    0.003  ...  13.8  12.2  3.5  3.2  6.8  0.187  -0.9   1.7   0.9   1.3  \n",
            "4    0.092  ...  11.5  14.0  6.0  2.2  8.2  0.219   0.4   0.5   0.9   1.3  \n",
            "..     ...  ...   ...   ...  ...  ...  ...    ...   ...   ...   ...   ...  \n",
            "600    NaN  ...   NaN   0.0  0.0  0.0  0.0 -0.017  -7.4  -2.3  -9.7   0.0  \n",
            "601  0.200  ...  14.5  38.1  0.0  0.0  0.0  0.179   6.3   0.1   6.4   0.0  \n",
            "602  0.667  ...  25.0  24.5 -0.1  0.0 -0.1 -0.574 -25.0  -6.5 -31.5   0.0  \n",
            "603  0.000  ...  50.0   5.0 -0.1  0.0  0.0 -0.133 -13.1  -1.8 -15.0  -0.1  \n",
            "604  1.000  ...   0.0  44.0  0.0  0.0  0.0 -0.250  -9.9  -3.8 -13.7   0.0  \n",
            "\n",
            "[605 rows x 27 columns]\n"
          ]
        }
      ],
      "source": [
        "data = pd.read_csv ('advanced_stats_2122.txt')\n",
        "data = data.drop(columns = ['Unnamed: 24', 'Unnamed: 19'])\n",
        "print(data)"
      ]
    },
    {
      "cell_type": "code",
      "execution_count": null,
      "id": "b4bb2733",
      "metadata": {
        "id": "b4bb2733",
        "colab": {
          "base_uri": "https://localhost:8080/"
        },
        "outputId": "efe13c3a-9aee-49a8-f60f-6e0fad39f8c7"
      },
      "outputs": [
        {
          "output_type": "stream",
          "name": "stdout",
          "text": [
            "      Rk                    Player Pos  Age   Tm   G    MP   PER    TS%  \\\n",
            "0      1     Deni Avdija\\avdijde01  SF   21  WAS  82  1984  11.6  0.536   \n",
            "1      2        Saddiq Bey\\beysa01  SF   22  DET  82  2704  14.0  0.529   \n",
            "2      3   Mikal Bridges\\bridgmi01  SF   25  PHO  82  2854  14.4  0.627   \n",
            "3      4    Kevon Looney\\looneke01   C   25  GSW  82  1732  15.7  0.586   \n",
            "4      5   Dwight Powell\\poweldw01   C   30  DAL  82  1798  18.1  0.725   \n",
            "..   ...                       ...  ..  ...  ...  ..   ...   ...    ...   \n",
            "600  601      Ade Murkey\\murkead01  SG   24  SAC   1     1   0.0    NaN   \n",
            "601  602    Malik Newman\\newmama01  PG   24  CLE   1     8  28.6  0.680   \n",
            "602  603   Jaysean Paige\\paigeja01  PG   27  DET   1     7 -22.2  0.000   \n",
            "603  604  Trayvon Palmer\\palmetr01  SG   27  DET   1    17  -5.7  0.000   \n",
            "604  605        Matt Ryan\\ryanma01  SF   24  BOS   1     5   3.5  0.300   \n",
            "\n",
            "      3PAr  ...  TOV%  USG%  OWS  DWS   WS  WS/48  OBPM  DBPM   BPM  VORP  \n",
            "0    0.447  ...  12.0  16.3  0.6  1.8  2.4  0.058  -2.1   0.4  -1.7   0.1  \n",
            "1    0.537  ...   7.1  21.3  2.4  1.6  4.0  0.071   0.9  -1.2  -0.3   1.2  \n",
            "2    0.364  ...   6.8  15.0  5.2  3.7  8.9  0.150   0.5   1.1   1.6   2.6  \n",
            "3    0.003  ...  13.8  12.2  3.5  3.2  6.8  0.187  -0.9   1.7   0.9   1.3  \n",
            "4    0.092  ...  11.5  14.0  6.0  2.2  8.2  0.219   0.4   0.5   0.9   1.3  \n",
            "..     ...  ...   ...   ...  ...  ...  ...    ...   ...   ...   ...   ...  \n",
            "600    NaN  ...   NaN   0.0  0.0  0.0  0.0 -0.017  -7.4  -2.3  -9.7   0.0  \n",
            "601  0.200  ...  14.5  38.1  0.0  0.0  0.0  0.179   6.3   0.1   6.4   0.0  \n",
            "602  0.667  ...  25.0  24.5 -0.1  0.0 -0.1 -0.574 -25.0  -6.5 -31.5   0.0  \n",
            "603  0.000  ...  50.0   5.0 -0.1  0.0  0.0 -0.133 -13.1  -1.8 -15.0  -0.1  \n",
            "604  1.000  ...   0.0  44.0  0.0  0.0  0.0 -0.250  -9.9  -3.8 -13.7   0.0  \n",
            "\n",
            "[605 rows x 27 columns]\n"
          ]
        }
      ],
      "source": [
        "df = pd.DataFrame(data)\n",
        "print(df)"
      ]
    },
    {
      "cell_type": "code",
      "source": [
        "for i in range(0, len(df)):\n",
        "  mark = df['Player'][i].index('\\\\')\n",
        "  df['Player'][i] = df['Player'][i][:mark]\n",
        "print(df['Player'])"
      ],
      "metadata": {
        "id": "DT3ECVGg231S",
        "colab": {
          "base_uri": "https://localhost:8080/"
        },
        "outputId": "071d988b-5aa5-4444-807c-25f2487389d5"
      },
      "id": "DT3ECVGg231S",
      "execution_count": null,
      "outputs": [
        {
          "output_type": "stream",
          "name": "stdout",
          "text": [
            "0         Deni Avdija\n",
            "1          Saddiq Bey\n",
            "2       Mikal Bridges\n",
            "3        Kevon Looney\n",
            "4       Dwight Powell\n",
            "            ...      \n",
            "600        Ade Murkey\n",
            "601      Malik Newman\n",
            "602     Jaysean Paige\n",
            "603    Trayvon Palmer\n",
            "604         Matt Ryan\n",
            "Name: Player, Length: 605, dtype: object\n"
          ]
        }
      ]
    },
    {
      "cell_type": "code",
      "execution_count": null,
      "id": "230378ea",
      "metadata": {
        "id": "230378ea",
        "colab": {
          "base_uri": "https://localhost:8080/"
        },
        "outputId": "39009456-0057-4034-fa74-99ef9895092c"
      },
      "outputs": [
        {
          "output_type": "stream",
          "name": "stdout",
          "text": [
            "      Rk          Player Pos  Age   Tm   G    MP   PER    TS%   3PAr  ...  \\\n",
            "0      1     Deni Avdija  SF   21  WAS  82  1984  11.6  0.536  0.447  ...   \n",
            "1      2      Saddiq Bey  SF   22  DET  82  2704  14.0  0.529  0.537  ...   \n",
            "2      3   Mikal Bridges  SF   25  PHO  82  2854  14.4  0.627  0.364  ...   \n",
            "3      4    Kevon Looney   C   25  GSW  82  1732  15.7  0.586  0.003  ...   \n",
            "4      5   Dwight Powell   C   30  DAL  82  1798  18.1  0.725  0.092  ...   \n",
            "..   ...             ...  ..  ...  ...  ..   ...   ...    ...    ...  ...   \n",
            "600  601      Ade Murkey  SG   24  SAC   1     1   0.0    NaN    NaN  ...   \n",
            "601  602    Malik Newman  PG   24  CLE   1     8  28.6  0.680  0.200  ...   \n",
            "602  603   Jaysean Paige  PG   27  DET   1     7 -22.2  0.000  0.667  ...   \n",
            "603  604  Trayvon Palmer  SG   27  DET   1    17  -5.7  0.000  0.000  ...   \n",
            "604  605       Matt Ryan  SF   24  BOS   1     5   3.5  0.300  1.000  ...   \n",
            "\n",
            "     USG%  OWS  DWS   WS  WS/48  OBPM  DBPM   BPM  VORP  Salary  \n",
            "0    16.3  0.6  1.8  2.4  0.058  -2.1   0.4  -1.7   0.1       1  \n",
            "1    21.3  2.4  1.6  4.0  0.071   0.9  -1.2  -0.3   1.2       1  \n",
            "2    15.0  5.2  3.7  8.9  0.150   0.5   1.1   1.6   2.6       1  \n",
            "3    12.2  3.5  3.2  6.8  0.187  -0.9   1.7   0.9   1.3       1  \n",
            "4    14.0  6.0  2.2  8.2  0.219   0.4   0.5   0.9   1.3       1  \n",
            "..    ...  ...  ...  ...    ...   ...   ...   ...   ...     ...  \n",
            "600   0.0  0.0  0.0  0.0 -0.017  -7.4  -2.3  -9.7   0.0       1  \n",
            "601  38.1  0.0  0.0  0.0  0.179   6.3   0.1   6.4   0.0       1  \n",
            "602  24.5 -0.1  0.0 -0.1 -0.574 -25.0  -6.5 -31.5   0.0       1  \n",
            "603   5.0 -0.1  0.0  0.0 -0.133 -13.1  -1.8 -15.0  -0.1       1  \n",
            "604  44.0  0.0  0.0  0.0 -0.250  -9.9  -3.8 -13.7   0.0       1  \n",
            "\n",
            "[605 rows x 28 columns]\n"
          ]
        }
      ],
      "source": [
        "df['Salary'] = 1\n",
        "print(df)"
      ]
    },
    {
      "cell_type": "code",
      "execution_count": null,
      "id": "edd0a7da",
      "metadata": {
        "id": "edd0a7da",
        "colab": {
          "base_uri": "https://localhost:8080/"
        },
        "outputId": "f5b3e5f7-9799-4d17-9804-8d7a5ad7fff6"
      },
      "outputs": [
        {
          "output_type": "stream",
          "name": "stdout",
          "text": [
            "      Rk          Player Pos  Age   Tm   G    MP   PER    TS%   3PAr  ...  \\\n",
            "0      1     Deni Avdija  SF   21  WAS  82  1984  11.6  0.536  0.447  ...   \n",
            "1      2      Saddiq Bey  SF   22  DET  82  2704  14.0  0.529  0.537  ...   \n",
            "2      3   Mikal Bridges  SF   25  PHO  82  2854  14.4  0.627  0.364  ...   \n",
            "3      4    Kevon Looney   C   25  GSW  82  1732  15.7  0.586  0.003  ...   \n",
            "4      5   Dwight Powell   C   30  DAL  82  1798  18.1  0.725  0.092  ...   \n",
            "..   ...             ...  ..  ...  ...  ..   ...   ...    ...    ...  ...   \n",
            "600  601      Ade Murkey  SG   24  SAC   1     1   0.0    NaN    NaN  ...   \n",
            "601  602    Malik Newman  PG   24  CLE   1     8  28.6  0.680  0.200  ...   \n",
            "602  603   Jaysean Paige  PG   27  DET   1     7 -22.2  0.000  0.667  ...   \n",
            "603  604  Trayvon Palmer  SG   27  DET   1    17  -5.7  0.000  0.000  ...   \n",
            "604  605       Matt Ryan  SF   24  BOS   1     5   3.5  0.300  1.000  ...   \n",
            "\n",
            "     USG%  OWS  DWS   WS  WS/48  OBPM  DBPM   BPM  VORP     Salary  \n",
            "0    16.3  0.6  1.8  2.4  0.058  -2.1   0.4  -1.7   0.1   $4692840  \n",
            "1    21.3  2.4  1.6  4.0  0.071   0.9  -1.2  -0.3   1.2   $2824320  \n",
            "2    15.0  5.2  3.7  8.9  0.150   0.5   1.1   1.6   2.6   $5557725  \n",
            "3    12.2  3.5  3.2  6.8  0.187  -0.9   1.7   0.9   1.3   $5178572  \n",
            "4    14.0  6.0  2.2  8.2  0.219   0.4   0.5   0.9   1.3  $11000000  \n",
            "..    ...  ...  ...  ...    ...   ...   ...   ...   ...        ...  \n",
            "600   0.0  0.0  0.0  0.0 -0.017  -7.4  -2.3  -9.7   0.0          1  \n",
            "601  38.1  0.0  0.0  0.0  0.179   6.3   0.1   6.4   0.0          1  \n",
            "602  24.5 -0.1  0.0 -0.1 -0.574 -25.0  -6.5 -31.5   0.0          1  \n",
            "603   5.0 -0.1  0.0  0.0 -0.133 -13.1  -1.8 -15.0  -0.1          1  \n",
            "604  44.0  0.0  0.0  0.0 -0.250  -9.9  -3.8 -13.7   0.0          1  \n",
            "\n",
            "[605 rows x 28 columns]\n"
          ]
        }
      ],
      "source": [
        "for i in range(0, len(df)):\n",
        "    for j in range(0, len(df1)):\n",
        "        if (df['Player'][i] == df1[\"Player\"][j]):\n",
        "            df['Salary'][i] = df1[\"2021-22\"][j]\n",
        "print(df)"
      ]
    },
    {
      "cell_type": "code",
      "execution_count": null,
      "id": "faf8c315",
      "metadata": {
        "id": "faf8c315",
        "colab": {
          "base_uri": "https://localhost:8080/"
        },
        "outputId": "355a3bc4-3fb7-47fb-d12d-3b3fdc56ad94"
      },
      "outputs": [
        {
          "output_type": "stream",
          "name": "stdout",
          "text": [
            "      Rk          Player Pos  Age   Tm   G    MP   PER    TS%   3PAr  ...  \\\n",
            "0      1     Deni Avdija  SF   21  WAS  82  1984  11.6  0.536  0.447  ...   \n",
            "1      2      Saddiq Bey  SF   22  DET  82  2704  14.0  0.529  0.537  ...   \n",
            "2      3   Mikal Bridges  SF   25  PHO  82  2854  14.4  0.627  0.364  ...   \n",
            "3      4    Kevon Looney   C   25  GSW  82  1732  15.7  0.586  0.003  ...   \n",
            "4      5   Dwight Powell   C   30  DAL  82  1798  18.1  0.725  0.092  ...   \n",
            "..   ...             ...  ..  ...  ...  ..   ...   ...    ...    ...  ...   \n",
            "403  404  Bruno Fernando   C   23  TOT  30   152  21.2  0.671  0.036  ...   \n",
            "404  405      Kevin Knox  SF   22  TOT  30   222  10.9  0.491  0.635  ...   \n",
            "405  406      Vit Krejci  SG   21  OKC  30   690   8.5  0.529  0.587  ...   \n",
            "406  407    Kelan Martin  SF   26  TOT  30   450   9.4  0.484  0.439  ...   \n",
            "407  408    Semi Ojeleye  PF   27  TOT  30   406   6.7  0.438  0.505  ...   \n",
            "\n",
            "     USG%  OWS  DWS   WS  WS/48  OBPM  DBPM  BPM  VORP     Salary  \n",
            "0    16.3  0.6  1.8  2.4  0.058  -2.1   0.4 -1.7   0.1   $4692840  \n",
            "1    21.3  2.4  1.6  4.0  0.071   0.9  -1.2 -0.3   1.2   $2824320  \n",
            "2    15.0  5.2  3.7  8.9  0.150   0.5   1.1  1.6   2.6   $5557725  \n",
            "3    12.2  3.5  3.2  6.8  0.187  -0.9   1.7  0.9   1.3   $5178572  \n",
            "4    14.0  6.0  2.2  8.2  0.219   0.4   0.5  0.9   1.3  $11000000  \n",
            "..    ...  ...  ...  ...    ...   ...   ...  ...   ...        ...  \n",
            "403  22.4  0.2  0.2  0.4  0.140  -0.4   0.2 -0.1   0.1   $1782621  \n",
            "404  20.0  0.1  0.2  0.2  0.047  -1.9  -2.2 -4.1  -0.1   $5845978  \n",
            "405  12.9  0.1  0.5  0.6  0.042  -4.3  -1.0 -5.3  -0.6    $925258  \n",
            "406  18.1 -0.1  0.2  0.0  0.005  -2.6  -1.0 -3.6  -0.2        NaN  \n",
            "407  12.8 -0.1  0.3  0.2  0.029  -4.1  -1.6 -5.8  -0.4   $1789256  \n",
            "\n",
            "[408 rows x 28 columns]\n"
          ]
        }
      ],
      "source": [
        "for i in range(0,len(df)):\n",
        "    if df['G'][i] < 30:\n",
        "        df = df.drop(i)\n",
        "df = df.reset_index(drop=True)\n",
        "print(df)"
      ]
    },
    {
      "cell_type": "code",
      "execution_count": null,
      "id": "6368cd3b",
      "metadata": {
        "id": "6368cd3b",
        "colab": {
          "base_uri": "https://localhost:8080/"
        },
        "outputId": "53b60fc0-b336-420d-b238-cbd78c869d05"
      },
      "outputs": [
        {
          "output_type": "stream",
          "name": "stdout",
          "text": [
            "      Rk                 Player    Pos  Age   Tm   G    MP   PER    TS%  \\\n",
            "0    315            Jalen Suggs     PG   20  ORL  48  1307   8.6  0.455   \n",
            "1    395           Keifer Sykes     PG   28  IND  32   566   5.9  0.456   \n",
            "2    368           Keon Johnson     SG   19  TOT  37   697   8.7  0.453   \n",
            "3    178        Cade Cunningham     PG   20  DET  64  2088  13.1  0.504   \n",
            "4    377          Elijah Hughes  SG-SF   23  TOT  36   434   5.4  0.426   \n",
            "..   ...                    ...    ...  ...  ...  ..   ...   ...    ...   \n",
            "390   65     Karl-Anthony Towns      C   26  MIN  74  2476  24.1  0.640   \n",
            "391  152            Rudy Gobert      C   29  UTA  66  2120  24.7  0.732   \n",
            "392  123            Joel Embiid      C   27  PHI  68  2297  31.2  0.616   \n",
            "393  132  Giannis Antetokounmpo     PF   27  MIL  67  2204  32.1  0.633   \n",
            "394   62           Nikola Jokić      C   26  DEN  74  2476  32.8  0.661   \n",
            "\n",
            "      3PAr  ...  USG%   OWS  DWS    WS  WS/48  OBPM  DBPM   BPM  VORP  \\\n",
            "0    0.358  ...  25.3  -3.0  1.3  -1.6 -0.060  -5.3  -0.2  -5.6  -1.2   \n",
            "1    0.474  ...  17.4  -0.5  0.1  -0.5 -0.040  -4.4  -2.5  -6.9  -0.7   \n",
            "2    0.368  ...  21.2  -0.8  0.4  -0.5 -0.031  -4.0  -2.0  -5.9  -0.7   \n",
            "3    0.352  ...  27.5  -2.4  1.9  -0.5 -0.011  -1.1  -0.5  -1.6   0.2   \n",
            "4    0.660  ...  16.5  -0.6  0.3  -0.4 -0.043  -5.2  -1.7  -6.9  -0.5   \n",
            "..     ...  ...   ...   ...  ...   ...    ...   ...   ...   ...   ...   \n",
            "390  0.301  ...  27.8   7.1  3.2  10.3  0.199   4.5   0.5   5.0   4.4   \n",
            "391  0.008  ...  16.9   7.3  4.3  11.7  0.264   2.9   1.7   4.6   3.6   \n",
            "392  0.188  ...  37.2   7.9  4.1  12.0  0.252   7.2   2.0   9.2   6.5   \n",
            "393  0.194  ...  34.9   9.2  3.7  12.9  0.281   7.6   3.5  11.2   7.4   \n",
            "394  0.220  ...  31.9  10.8  4.5  15.2  0.296   9.2   4.5  13.7   9.8   \n",
            "\n",
            "         Salary  \n",
            "0     6593040.0  \n",
            "1      558345.0  \n",
            "2     2553120.0  \n",
            "3    10050120.0  \n",
            "4     1517981.0  \n",
            "..          ...  \n",
            "390  31610000.0  \n",
            "391  35344828.0  \n",
            "392  31579390.0  \n",
            "393  39344970.0  \n",
            "394  30510423.0  \n",
            "\n",
            "[395 rows x 28 columns]\n"
          ]
        }
      ],
      "source": [
        "for i in range(0,len(df)):\n",
        "  if df['Salary'][i] == 1 or type(df['Salary'][i]) != str:\n",
        "    df = df.drop(i)\n",
        "\n",
        "df = df.sort_values(by = ['WS'])\n",
        "df = df.reset_index(drop=True)\n",
        "for i in range(0,len(df)):\n",
        "  df['Salary'][i] = float(df['Salary'][i].replace(\"$\", \"\"))\n",
        "print(df)"
      ]
    },
    {
      "cell_type": "code",
      "source": [
        "!pip install speedml\n",
        "from speedml import Speedml"
      ],
      "metadata": {
        "id": "rcfpyPZV8Vpb",
        "colab": {
          "base_uri": "https://localhost:8080/"
        },
        "outputId": "2b5f237f-3d9f-4550-a0d9-7d9f2bbdbe47"
      },
      "id": "rcfpyPZV8Vpb",
      "execution_count": null,
      "outputs": [
        {
          "output_type": "stream",
          "name": "stdout",
          "text": [
            "Requirement already satisfied: speedml in /usr/local/lib/python3.7/dist-packages (0.9.3)\n",
            "Requirement already satisfied: xgboost in /usr/local/lib/python3.7/dist-packages (from speedml) (0.90)\n",
            "Requirement already satisfied: seaborn in /usr/local/lib/python3.7/dist-packages (from speedml) (0.11.2)\n",
            "Requirement already satisfied: numpy in /usr/local/lib/python3.7/dist-packages (from speedml) (1.21.6)\n",
            "Requirement already satisfied: pandas in /usr/local/lib/python3.7/dist-packages (from speedml) (1.3.5)\n",
            "Requirement already satisfied: matplotlib in /usr/local/lib/python3.7/dist-packages (from speedml) (3.2.2)\n",
            "Requirement already satisfied: future in /usr/local/lib/python3.7/dist-packages (from speedml) (0.16.0)\n",
            "Requirement already satisfied: sklearn in /usr/local/lib/python3.7/dist-packages (from speedml) (0.0)\n",
            "Requirement already satisfied: python-dateutil>=2.1 in /usr/local/lib/python3.7/dist-packages (from matplotlib->speedml) (2.8.2)\n",
            "Requirement already satisfied: kiwisolver>=1.0.1 in /usr/local/lib/python3.7/dist-packages (from matplotlib->speedml) (1.4.2)\n",
            "Requirement already satisfied: pyparsing!=2.0.4,!=2.1.2,!=2.1.6,>=2.0.1 in /usr/local/lib/python3.7/dist-packages (from matplotlib->speedml) (3.0.8)\n",
            "Requirement already satisfied: cycler>=0.10 in /usr/local/lib/python3.7/dist-packages (from matplotlib->speedml) (0.11.0)\n",
            "Requirement already satisfied: typing-extensions in /usr/local/lib/python3.7/dist-packages (from kiwisolver>=1.0.1->matplotlib->speedml) (4.2.0)\n",
            "Requirement already satisfied: six>=1.5 in /usr/local/lib/python3.7/dist-packages (from python-dateutil>=2.1->matplotlib->speedml) (1.15.0)\n",
            "Requirement already satisfied: pytz>=2017.3 in /usr/local/lib/python3.7/dist-packages (from pandas->speedml) (2022.1)\n",
            "Requirement already satisfied: scipy>=1.0 in /usr/local/lib/python3.7/dist-packages (from seaborn->speedml) (1.4.1)\n",
            "Requirement already satisfied: scikit-learn in /usr/local/lib/python3.7/dist-packages (from sklearn->speedml) (1.0.2)\n",
            "Requirement already satisfied: joblib>=0.11 in /usr/local/lib/python3.7/dist-packages (from scikit-learn->sklearn->speedml) (1.1.0)\n",
            "Requirement already satisfied: threadpoolctl>=2.0.0 in /usr/local/lib/python3.7/dist-packages (from scikit-learn->sklearn->speedml) (3.1.0)\n"
          ]
        }
      ]
    },
    {
      "cell_type": "code",
      "source": [
        "training_data = df.sample(frac=0.8, random_state=25)\n",
        "testing_data = df.drop(training_data.index)\n",
        "training_data.to_csv('train.csv')\n",
        "testing_data.to_csv('test.csv')"
      ],
      "metadata": {
        "id": "WU9YztoT81IU"
      },
      "id": "WU9YztoT81IU",
      "execution_count": null,
      "outputs": []
    },
    {
      "cell_type": "code",
      "source": [
        "sml = Speedml('train.csv', 'test.csv',\n",
        "              target='Salary', uid='Player')\n",
        "sml.plot.correlate()\n",
        "sml.eda()"
      ],
      "metadata": {
        "id": "9UmlvpwJEQqY",
        "colab": {
          "base_uri": "https://localhost:8080/",
          "height": 998
        },
        "outputId": "2aa404b8-420b-4020-c180-154ed20473b6"
      },
      "id": "9UmlvpwJEQqY",
      "execution_count": null,
      "outputs": [
        {
          "output_type": "execute_result",
          "data": {
            "text/plain": [
              "                                                                      Results  \\\n",
              "Speedml Release                                                        v0.9.3   \n",
              "Shape                                         train (316, 28) | test (79, 28)   \n",
              "Numerical Ratio                                                           92%   \n",
              "Numerical High-cardinality  [Age, G, PER, TS%, FTr, ORB%, DRB%, TRB%, AST%...   \n",
              "Numerical Continuous                               [Unnamed: 0, Rk, MP, 3PAr]   \n",
              "Text High-cardinality                                               [Tm, Pos]   \n",
              "Target Analysis (Salary)                                         Pre-process.   \n",
              "\n",
              "                                                            Observations  \n",
              "Speedml Release             Visit https://speedml.com for release notes.  \n",
              "Shape                                                                     \n",
              "Numerical Ratio                                  Aim for 100% numerical.  \n",
              "Numerical High-cardinality         (>10) categories. Use feature.density  \n",
              "Numerical Continuous                   ~80% unique. Use plot.continuous.  \n",
              "Text High-cardinality              (>10) categories. Use feature.labels.  \n",
              "Target Analysis (Salary)                       Dimensionality reduction?  "
            ],
            "text/html": [
              "\n",
              "  <div id=\"df-7046c7f6-d952-412c-8fa5-6240464b215c\">\n",
              "    <div class=\"colab-df-container\">\n",
              "      <div>\n",
              "<style scoped>\n",
              "    .dataframe tbody tr th:only-of-type {\n",
              "        vertical-align: middle;\n",
              "    }\n",
              "\n",
              "    .dataframe tbody tr th {\n",
              "        vertical-align: top;\n",
              "    }\n",
              "\n",
              "    .dataframe thead th {\n",
              "        text-align: right;\n",
              "    }\n",
              "</style>\n",
              "<table border=\"1\" class=\"dataframe\">\n",
              "  <thead>\n",
              "    <tr style=\"text-align: right;\">\n",
              "      <th></th>\n",
              "      <th>Results</th>\n",
              "      <th>Observations</th>\n",
              "    </tr>\n",
              "  </thead>\n",
              "  <tbody>\n",
              "    <tr>\n",
              "      <th>Speedml Release</th>\n",
              "      <td>v0.9.3</td>\n",
              "      <td>Visit https://speedml.com for release notes.</td>\n",
              "    </tr>\n",
              "    <tr>\n",
              "      <th>Shape</th>\n",
              "      <td>train (316, 28) | test (79, 28)</td>\n",
              "      <td></td>\n",
              "    </tr>\n",
              "    <tr>\n",
              "      <th>Numerical Ratio</th>\n",
              "      <td>92%</td>\n",
              "      <td>Aim for 100% numerical.</td>\n",
              "    </tr>\n",
              "    <tr>\n",
              "      <th>Numerical High-cardinality</th>\n",
              "      <td>[Age, G, PER, TS%, FTr, ORB%, DRB%, TRB%, AST%...</td>\n",
              "      <td>(&gt;10) categories. Use feature.density</td>\n",
              "    </tr>\n",
              "    <tr>\n",
              "      <th>Numerical Continuous</th>\n",
              "      <td>[Unnamed: 0, Rk, MP, 3PAr]</td>\n",
              "      <td>~80% unique. Use plot.continuous.</td>\n",
              "    </tr>\n",
              "    <tr>\n",
              "      <th>Text High-cardinality</th>\n",
              "      <td>[Tm, Pos]</td>\n",
              "      <td>(&gt;10) categories. Use feature.labels.</td>\n",
              "    </tr>\n",
              "    <tr>\n",
              "      <th>Target Analysis (Salary)</th>\n",
              "      <td>Pre-process.</td>\n",
              "      <td>Dimensionality reduction?</td>\n",
              "    </tr>\n",
              "  </tbody>\n",
              "</table>\n",
              "</div>\n",
              "      <button class=\"colab-df-convert\" onclick=\"convertToInteractive('df-7046c7f6-d952-412c-8fa5-6240464b215c')\"\n",
              "              title=\"Convert this dataframe to an interactive table.\"\n",
              "              style=\"display:none;\">\n",
              "        \n",
              "  <svg xmlns=\"http://www.w3.org/2000/svg\" height=\"24px\"viewBox=\"0 0 24 24\"\n",
              "       width=\"24px\">\n",
              "    <path d=\"M0 0h24v24H0V0z\" fill=\"none\"/>\n",
              "    <path d=\"M18.56 5.44l.94 2.06.94-2.06 2.06-.94-2.06-.94-.94-2.06-.94 2.06-2.06.94zm-11 1L8.5 8.5l.94-2.06 2.06-.94-2.06-.94L8.5 2.5l-.94 2.06-2.06.94zm10 10l.94 2.06.94-2.06 2.06-.94-2.06-.94-.94-2.06-.94 2.06-2.06.94z\"/><path d=\"M17.41 7.96l-1.37-1.37c-.4-.4-.92-.59-1.43-.59-.52 0-1.04.2-1.43.59L10.3 9.45l-7.72 7.72c-.78.78-.78 2.05 0 2.83L4 21.41c.39.39.9.59 1.41.59.51 0 1.02-.2 1.41-.59l7.78-7.78 2.81-2.81c.8-.78.8-2.07 0-2.86zM5.41 20L4 18.59l7.72-7.72 1.47 1.35L5.41 20z\"/>\n",
              "  </svg>\n",
              "      </button>\n",
              "      \n",
              "  <style>\n",
              "    .colab-df-container {\n",
              "      display:flex;\n",
              "      flex-wrap:wrap;\n",
              "      gap: 12px;\n",
              "    }\n",
              "\n",
              "    .colab-df-convert {\n",
              "      background-color: #E8F0FE;\n",
              "      border: none;\n",
              "      border-radius: 50%;\n",
              "      cursor: pointer;\n",
              "      display: none;\n",
              "      fill: #1967D2;\n",
              "      height: 32px;\n",
              "      padding: 0 0 0 0;\n",
              "      width: 32px;\n",
              "    }\n",
              "\n",
              "    .colab-df-convert:hover {\n",
              "      background-color: #E2EBFA;\n",
              "      box-shadow: 0px 1px 2px rgba(60, 64, 67, 0.3), 0px 1px 3px 1px rgba(60, 64, 67, 0.15);\n",
              "      fill: #174EA6;\n",
              "    }\n",
              "\n",
              "    [theme=dark] .colab-df-convert {\n",
              "      background-color: #3B4455;\n",
              "      fill: #D2E3FC;\n",
              "    }\n",
              "\n",
              "    [theme=dark] .colab-df-convert:hover {\n",
              "      background-color: #434B5C;\n",
              "      box-shadow: 0px 1px 3px 1px rgba(0, 0, 0, 0.15);\n",
              "      filter: drop-shadow(0px 1px 2px rgba(0, 0, 0, 0.3));\n",
              "      fill: #FFFFFF;\n",
              "    }\n",
              "  </style>\n",
              "\n",
              "      <script>\n",
              "        const buttonEl =\n",
              "          document.querySelector('#df-7046c7f6-d952-412c-8fa5-6240464b215c button.colab-df-convert');\n",
              "        buttonEl.style.display =\n",
              "          google.colab.kernel.accessAllowed ? 'block' : 'none';\n",
              "\n",
              "        async function convertToInteractive(key) {\n",
              "          const element = document.querySelector('#df-7046c7f6-d952-412c-8fa5-6240464b215c');\n",
              "          const dataTable =\n",
              "            await google.colab.kernel.invokeFunction('convertToInteractive',\n",
              "                                                     [key], {});\n",
              "          if (!dataTable) return;\n",
              "\n",
              "          const docLinkHtml = 'Like what you see? Visit the ' +\n",
              "            '<a target=\"_blank\" href=https://colab.research.google.com/notebooks/data_table.ipynb>data table notebook</a>'\n",
              "            + ' to learn more about interactive tables.';\n",
              "          element.innerHTML = '';\n",
              "          dataTable['output_type'] = 'display_data';\n",
              "          await google.colab.output.renderOutput(dataTable, element);\n",
              "          const docLink = document.createElement('div');\n",
              "          docLink.innerHTML = docLinkHtml;\n",
              "          element.appendChild(docLink);\n",
              "        }\n",
              "      </script>\n",
              "    </div>\n",
              "  </div>\n",
              "  "
            ]
          },
          "metadata": {},
          "execution_count": 430
        },
        {
          "output_type": "display_data",
          "data": {
            "text/plain": [
              "<Figure size 936x936 with 2 Axes>"
            ],
            "image/png": "[encoded data removed]"
          },
          "metadata": {
            "needs_background": "light"
          }
        }
      ]
    },
    {
      "cell_type": "code",
      "source": [
        "sml.plot.importance()"
      ],
      "metadata": {
        "colab": {
          "base_uri": "https://localhost:8080/",
          "height": 620
        },
        "id": "qhNQbgZPzKv7",
        "outputId": "3cf28452-8645-492c-9e08-bcbb5fd73970"
      },
      "id": "qhNQbgZPzKv7",
      "execution_count": null,
      "outputs": [
        {
          "output_type": "display_data",
          "data": {
            "text/plain": [
              "<Figure size 648x720 with 1 Axes>"
            ],
            "image/png": "[encoded data removed]"
          },
          "metadata": {
            "needs_background": "light"
          }
        }
      ]
    },
    {
      "cell_type": "code",
      "source": [
        "def searchStats(a):\n",
        "  for i in range(0,len(df)):\n",
        "    if df['Player'][i] == a:\n",
        "      return i\n",
        "  return False\n",
        "searchStats('Ste')"
      ],
      "metadata": {
        "id": "lJbjAfvgVMPl",
        "colab": {
          "base_uri": "https://localhost:8080/"
        },
        "outputId": "65a8055d-689b-43b0-b2f3-825706b2c1ed"
      },
      "id": "lJbjAfvgVMPl",
      "execution_count": null,
      "outputs": [
        {
          "output_type": "execute_result",
          "data": {
            "text/plain": [
              "False"
            ]
          },
          "metadata": {},
          "execution_count": 432
        }
      ]
    },
    {
      "cell_type": "code",
      "source": [
        "var1 = np.asarray(df['BPM'])\n",
        "var2 = np.asarray(df['Salary'])\n",
        "pearson, pvalue= pearsonr(var1, var2)\n",
        "print('Pearson correlation: ', pearson)\n",
        "print('p-value            : ', pvalue)\n",
        "\n",
        "x = df['BPM'].astype('float32')\n",
        "y = df['Salary'].astype('float32')\n",
        "a, b = np.polyfit(x, y, 1)\n",
        "pyplot.scatter(x, y, color='purple')\n",
        "pyplot.plot(x, a*x+b)\n",
        "pyplot.xlabel('BPM (Box Plus/Minus)')\n",
        "pyplot.ylabel('Salary')\n",
        "print(\"\\n\"+ \"y = \"+ str(a)+\"*x + \" + str(b))"
      ],
      "metadata": {
        "colab": {
          "base_uri": "https://localhost:8080/",
          "height": 376
        },
        "id": "6bbxKkk71zaA",
        "outputId": "a6300385-bb53-4860-93ec-63bd4246334c"
      },
      "id": "6bbxKkk71zaA",
      "execution_count": null,
      "outputs": [
        {
          "output_type": "stream",
          "name": "stdout",
          "text": [
            "Pearson correlation:  0.561226876006043\n",
            "p-value            :  3.7085657663968475e-34\n"
          ]
        },
        {
          "output_type": "execute_result",
          "data": {
            "text/plain": [
              "<matplotlib.collections.PathCollection at 0x7f536c40bcd0>"
            ]
          },
          "metadata": {},
          "execution_count": 433
        },
        {
          "output_type": "execute_result",
          "data": {
            "text/plain": [
              "[<matplotlib.lines.Line2D at 0x7f536c3793d0>]"
            ]
          },
          "metadata": {},
          "execution_count": 433
        },
        {
          "output_type": "execute_result",
          "data": {
            "text/plain": [
              "Text(0.5, 0, 'BPM (Box Plus/Minus)')"
            ]
          },
          "metadata": {},
          "execution_count": 433
        },
        {
          "output_type": "execute_result",
          "data": {
            "text/plain": [
              "Text(0, 0.5, 'Salary')"
            ]
          },
          "metadata": {},
          "execution_count": 433
        },
        {
          "output_type": "stream",
          "name": "stdout",
          "text": [
            "\n",
            "y = 1981082.5813040307*x + 9698703.11537063\n"
          ]
        },
        {
          "output_type": "display_data",
          "data": {
            "text/plain": [
              "<Figure size 432x288 with 1 Axes>"
            ],
            "image/png": "[encoded data removed]"
          },
          "metadata": {
            "needs_background": "light"
          }
        }
      ]
    },
    {
      "cell_type": "code",
      "source": [
        "var1 = np.asarray(df['VORP'])\n",
        "var2 = np.asarray(df['Salary'])\n",
        "pearson, pvalue= pearsonr(var1, var2)\n",
        "print('Pearson correlation: ', pearson)\n",
        "print('p-value            : ', pvalue)\n",
        "\n",
        "x = df['VORP'].astype('float32')\n",
        "y = df['Salary'].astype('float32')\n",
        "a, b = np.polyfit(x, y, 1)\n",
        "pyplot.scatter(x, y, color='purple')\n",
        "pyplot.plot(x, a*x+b)\n",
        "pyplot.xlabel('VORP (Value over replacement player)')\n",
        "pyplot.ylabel('Salary')\n",
        "print(\"\\n\"+\"y = \"+ str(a)+\"*x + \" + str(b))"
      ],
      "metadata": {
        "colab": {
          "base_uri": "https://localhost:8080/",
          "height": 396
        },
        "id": "1ChVgJEV13NW",
        "outputId": "f1a1e4cb-54c4-4455-8f6a-90628de7af70"
      },
      "id": "1ChVgJEV13NW",
      "execution_count": null,
      "outputs": [
        {
          "output_type": "stream",
          "name": "stdout",
          "text": [
            "Pearson correlation:  0.6009356809769573\n",
            "p-value            :  3.873587592344332e-40\n"
          ]
        },
        {
          "output_type": "execute_result",
          "data": {
            "text/plain": [
              "<matplotlib.collections.PathCollection at 0x7f536c469f90>"
            ]
          },
          "metadata": {},
          "execution_count": 434
        },
        {
          "output_type": "execute_result",
          "data": {
            "text/plain": [
              "[<matplotlib.lines.Line2D at 0x7f536c357750>]"
            ]
          },
          "metadata": {},
          "execution_count": 434
        },
        {
          "output_type": "execute_result",
          "data": {
            "text/plain": [
              "Text(0.5, 0, 'VORP (Value over replacement player)')"
            ]
          },
          "metadata": {},
          "execution_count": 434
        },
        {
          "output_type": "execute_result",
          "data": {
            "text/plain": [
              "Text(0, 0.5, 'Salary')"
            ]
          },
          "metadata": {},
          "execution_count": 434
        },
        {
          "output_type": "stream",
          "name": "stdout",
          "text": [
            "\n",
            "y = 4452898.933071364*x + 5299985.777798921\n"
          ]
        },
        {
          "output_type": "display_data",
          "data": {
            "text/plain": [
              "<Figure size 432x288 with 1 Axes>"
            ],
            "image/png": "[encoded data removed]"
          },
          "metadata": {
            "needs_background": "light"
          }
        }
      ]
    },
    {
      "cell_type": "code",
      "source": [
        "var1 = np.asarray(df['USG%'])\n",
        "var2 = np.asarray(df['Salary'])\n",
        "pearson, pvalue= pearsonr(var1, var2)\n",
        "print('Pearson correlation: ', pearson)\n",
        "print('p-value            : ', pvalue)\n",
        "\n",
        "x = df['USG%'].astype('float32')\n",
        "y = df['Salary'].astype('float32')\n",
        "a, b = np.polyfit(x, y, 1)\n",
        "pyplot.scatter(x, y, color='purple')\n",
        "pyplot.plot(x, a*x+b)\n",
        "pyplot.xlabel('USG% (Usage Percentage)')\n",
        "pyplot.ylabel('Salary')\n",
        "print(\"\\n\"+\"y = \"+ str(a)+\"*x + \" + str(b))"
      ],
      "metadata": {
        "colab": {
          "base_uri": "https://localhost:8080/",
          "height": 376
        },
        "id": "AXXzmLOS18dL",
        "outputId": "da9b4ccb-0e6a-4cd9-e990-33bfe1e27eff"
      },
      "id": "AXXzmLOS18dL",
      "execution_count": null,
      "outputs": [
        {
          "output_type": "stream",
          "name": "stdout",
          "text": [
            "Pearson correlation:  0.5408206427965783\n",
            "p-value            :  2.1958982381533754e-31\n"
          ]
        },
        {
          "output_type": "execute_result",
          "data": {
            "text/plain": [
              "<matplotlib.collections.PathCollection at 0x7f536c2e2d10>"
            ]
          },
          "metadata": {},
          "execution_count": 435
        },
        {
          "output_type": "execute_result",
          "data": {
            "text/plain": [
              "[<matplotlib.lines.Line2D at 0x7f536c2b66d0>]"
            ]
          },
          "metadata": {},
          "execution_count": 435
        },
        {
          "output_type": "execute_result",
          "data": {
            "text/plain": [
              "Text(0.5, 0, 'USG% (Usage Percentage)')"
            ]
          },
          "metadata": {},
          "execution_count": 435
        },
        {
          "output_type": "execute_result",
          "data": {
            "text/plain": [
              "Text(0, 0.5, 'Salary')"
            ]
          },
          "metadata": {},
          "execution_count": 435
        },
        {
          "output_type": "stream",
          "name": "stdout",
          "text": [
            "\n",
            "y = 985166.433526997*x + -9947239.888682622\n"
          ]
        },
        {
          "output_type": "display_data",
          "data": {
            "text/plain": [
              "<Figure size 432x288 with 1 Axes>"
            ],
            "image/png": "[encoded data removed]"
          },
          "metadata": {
            "needs_background": "light"
          }
        }
      ]
    },
    {
      "cell_type": "code",
      "source": [
        "var1 = np.asarray(df['Age'])\n",
        "var2 = np.asarray(df['Salary'])\n",
        "pearson, pvalue= pearsonr(var1, var2)\n",
        "print('Pearson correlation: ', pearson)\n",
        "print('p-value            : ', pvalue)\n",
        "\n",
        "x = df['Age'].astype('float32')\n",
        "y = df['Salary'].astype('float32')\n",
        "a, b = np.polyfit(x, y, 1)\n",
        "pyplot.scatter(x, y, color='purple')\n",
        "pyplot.plot(x, a*x+b)\n",
        "pyplot.xlabel('Age')\n",
        "pyplot.ylabel('Salary')\n",
        "print(\"\\n\"+\"y = \"+ str(a)+\"*x + \" + str(b))"
      ],
      "metadata": {
        "colab": {
          "base_uri": "https://localhost:8080/",
          "height": 376
        },
        "id": "redj5alYNxf2",
        "outputId": "c8f9995e-9303-4388-90eb-0cd648409389"
      },
      "id": "redj5alYNxf2",
      "execution_count": null,
      "outputs": [
        {
          "output_type": "stream",
          "name": "stdout",
          "text": [
            "Pearson correlation:  0.36636857523111754\n",
            "p-value            :  5.4165563655959087e-14\n"
          ]
        },
        {
          "output_type": "execute_result",
          "data": {
            "text/plain": [
              "<matplotlib.collections.PathCollection at 0x7f536c2f2a10>"
            ]
          },
          "metadata": {},
          "execution_count": 436
        },
        {
          "output_type": "execute_result",
          "data": {
            "text/plain": [
              "[<matplotlib.lines.Line2D at 0x7f536c21bb50>]"
            ]
          },
          "metadata": {},
          "execution_count": 436
        },
        {
          "output_type": "execute_result",
          "data": {
            "text/plain": [
              "Text(0.5, 0, 'Age')"
            ]
          },
          "metadata": {},
          "execution_count": 436
        },
        {
          "output_type": "execute_result",
          "data": {
            "text/plain": [
              "Text(0, 0.5, 'Salary')"
            ]
          },
          "metadata": {},
          "execution_count": 436
        },
        {
          "output_type": "stream",
          "name": "stdout",
          "text": [
            "\n",
            "y = 817818.1901429041*x + -12558556.324033031\n"
          ]
        },
        {
          "output_type": "display_data",
          "data": {
            "text/plain": [
              "<Figure size 432x288 with 1 Axes>"
            ],
            "image/png": "[encoded data removed]"
          },
          "metadata": {
            "needs_background": "light"
          }
        }
      ]
    },
    {
      "cell_type": "code",
      "source": [
        "X = df[['BPM', 'VORP', 'USG%', 'Age']]\n",
        "y = df['Salary']\n",
        "X_train, X_test, y_train, y_test = train_test_split(X, y,test_size=0.2, random_state=0)\n",
        "regressor = LinearRegression()\n",
        "regressor.fit(X_train, y_train)\n",
        "y_pred = regressor.predict(X_test)\n",
        "y1_pred = regressor.predict(X_train)\n",
        "d = pd.DataFrame({'Salary': y_test, 'Predicted': y_pred})\n",
        "d1 = pd.DataFrame({'Salary': y_train, 'Predicted': y1_pred})"
      ],
      "metadata": {
        "colab": {
          "base_uri": "https://localhost:8080/"
        },
        "id": "Cyl45ZVYL62b",
        "outputId": "b1519d1d-8578-46dc-e7a3-5ba98df8faaf"
      },
      "id": "Cyl45ZVYL62b",
      "execution_count": null,
      "outputs": [
        {
          "output_type": "execute_result",
          "data": {
            "text/plain": [
              "LinearRegression()"
            ]
          },
          "metadata": {},
          "execution_count": 437
        }
      ]
    },
    {
      "cell_type": "code",
      "source": [
        "from sklearn import metrics\n",
        "import numpy as np\n",
        "mae = metrics.mean_absolute_error(y_test, y_pred)\n",
        "print('Mean Absolute Error:', metrics.mean_absolute_error(y_test, y_pred))\n",
        "print('Mean Squared Error:', metrics.mean_squared_error(y_test, y_pred))\n",
        "print('Root Mean Squared Error:', np.sqrt(metrics.mean_squared_error(y_test, y_pred)))"
      ],
      "metadata": {
        "colab": {
          "base_uri": "https://localhost:8080/"
        },
        "id": "sJGBQrqOQd4V",
        "outputId": "05b59c67-20a5-442b-ce8c-756d72527884"
      },
      "id": "sJGBQrqOQd4V",
      "execution_count": null,
      "outputs": [
        {
          "output_type": "stream",
          "name": "stdout",
          "text": [
            "Mean Absolute Error: 5091395.523535399\n",
            "Mean Squared Error: 50640044441506.8\n",
            "Root Mean Squared Error: 7116181.872430383\n"
          ]
        }
      ]
    },
    {
      "cell_type": "code",
      "source": [
        "d = d.append(d1)\n",
        "d = d.sort_index()\n",
        "d = d.merge(df['Player'], left_index = True, right_index = True)"
      ],
      "metadata": {
        "id": "9A-ZMarlVz92"
      },
      "id": "9A-ZMarlVz92",
      "execution_count": null,
      "outputs": []
    },
    {
      "cell_type": "code",
      "source": [
        "def isWaste(a):\n",
        "  i = searchStats(a)\n",
        "  if i != False:\n",
        "    if float(d['Salary'][i]) - float(d['Predicted'][i]) > 0:\n",
        "      if abs(abs(float(d['Salary'][i])) - abs(float(d['Predicted'][i]))) < mae:\n",
        "        print(a+' is not a waste. His predicted salary is:')\n",
        "        print(round(d['Predicted'][i]))\n",
        "        return\n",
        "      else:\n",
        "        print(a+' is a waste. His predicted salary is:')\n",
        "        print(round(d['Predicted'][i]))\n",
        "        return\n",
        "    else:\n",
        "      print(a+' is not a waste. His predicted salary is:')\n",
        "      print(round(d['Predicted'][i]))\n",
        "      return\n",
        "  print('No such player')\n",
        "  return False"
      ],
      "metadata": {
        "id": "SRR5ZypKo1RR"
      },
      "id": "SRR5ZypKo1RR",
      "execution_count": null,
      "outputs": []
    },
    {
      "cell_type": "code",
      "source": [
        "isWaste('Kevin Durant')"
      ],
      "metadata": {
        "id": "vCj2v3a21AmR",
        "colab": {
          "base_uri": "https://localhost:8080/"
        },
        "outputId": "f2d08d17-5fa5-4f58-e79d-4163d99f0fd2"
      },
      "id": "vCj2v3a21AmR",
      "execution_count": null,
      "outputs": [
        {
          "output_type": "stream",
          "name": "stdout",
          "text": [
            "Kevin Durant is a waste. His predicted salary is:\n",
            "34742697\n"
          ]
        }
      ]
    },
    {
      "cell_type": "code",
      "source": [
        "def isWasteBool(a):\n",
        "  i = searchStats(a)\n",
        "  if i != False:\n",
        "    if float(d['Salary'][i]) - float(d['Predicted'][i]) > 0:\n",
        "      if abs(abs(float(d['Salary'][i])) - abs(float(d['Predicted'][i]))) < mae:\n",
        "        print(a+' is not a waste. His predicted salary is:')\n",
        "        print(round(d['Predicted'][i]))\n",
        "        return False\n",
        "      else:\n",
        "        print(a+' is a waste. His predicted salary is:')\n",
        "        print(round(d['Predicted'][i]))\n",
        "        return True\n",
        "    else:\n",
        "      print(a+' is not a waste. His predicted salary is:')\n",
        "      print(round(d1['Predicted'][i]))\n",
        "      return False\n",
        "  else: \n",
        "    print('No such player')\n",
        "    return False"
      ],
      "metadata": {
        "id": "VJLcQ2TGB0oE"
      },
      "id": "VJLcQ2TGB0oE",
      "execution_count": null,
      "outputs": []
    },
    {
      "cell_type": "code",
      "source": [
        "isWasteBool('Rudy Gobe=rt')"
      ],
      "metadata": {
        "id": "QslTkznVCZsG",
        "colab": {
          "base_uri": "https://localhost:8080/"
        },
        "outputId": "aefbf2e2-2f22-4b83-de87-4542d7a8434f"
      },
      "id": "QslTkznVCZsG",
      "execution_count": null,
      "outputs": [
        {
          "output_type": "stream",
          "name": "stdout",
          "text": [
            "No such player\n"
          ]
        },
        {
          "output_type": "execute_result",
          "data": {
            "text/plain": [
              "False"
            ]
          },
          "metadata": {},
          "execution_count": 443
        }
      ]
    },
    {
      "cell_type": "code",
      "source": [
        "for i in range(0,len(d['Player'])):\n",
        "  d['Player'][i] = d['Player'][i].lower()"
      ],
      "metadata": {
        "id": "4yoWXib0EhXM"
      },
      "id": "4yoWXib0EhXM",
      "execution_count": null,
      "outputs": []
    },
    {
      "cell_type": "code",
      "source": [
        " d['Player'][1]"
      ],
      "metadata": {
        "colab": {
          "base_uri": "https://localhost:8080/",
          "height": 35
        },
        "id": "IbZjWMqjNqr-",
        "outputId": "4cb64488-0746-441a-998c-fb8aeef4451f"
      },
      "id": "IbZjWMqjNqr-",
      "execution_count": null,
      "outputs": [
        {
          "output_type": "execute_result",
          "data": {
            "text/plain": [
              "'keifer sykes'"
            ],
            "application/vnd.google.colaboratory.intrinsic+json": {
              "type": "string"
            }
          },
          "metadata": {},
          "execution_count": 445
        }
      ]
    },
    {
      "cell_type": "code",
      "source": [
        "var1 = np.asarray(d['Salary'])\n",
        "var2 = np.asarray(d['Predicted'])\n",
        "pearson, pvalue= pearsonr(var1, var2)\n",
        "print('Pearson correlation: ', pearson)\n",
        "print('p-value            : ', pvalue)\n",
        "\n",
        "x = d['Salary'].astype('float32')\n",
        "y = d['Predicted'].astype('float32')\n",
        "a, b = np.polyfit(x, y, 1)\n",
        "pyplot.plot(x, a*x+b)\n",
        "pyplot.scatter(x, y, color = 'purple')\n",
        "pyplot.xlabel('Actual Salary')\n",
        "pyplot.ylabel('Predicted Salary')\n",
        "\n",
        "print(\"\\n\"+\"y = \"+ str(a)+\"*x + \" + str(b))"
      ],
      "metadata": {
        "colab": {
          "base_uri": "https://localhost:8080/",
          "height": 396
        },
        "id": "9ltQVpm9OYXn",
        "outputId": "374a9edd-984f-40eb-c4c3-d3b7cbe898f6"
      },
      "id": "9ltQVpm9OYXn",
      "execution_count": null,
      "outputs": [
        {
          "output_type": "stream",
          "name": "stdout",
          "text": [
            "Pearson correlation:  0.7423321359863502\n",
            "p-value            :  2.4465252025184016e-70\n"
          ]
        },
        {
          "output_type": "execute_result",
          "data": {
            "text/plain": [
              "[<matplotlib.lines.Line2D at 0x7f536c20dfd0>]"
            ]
          },
          "metadata": {},
          "execution_count": 446
        },
        {
          "output_type": "execute_result",
          "data": {
            "text/plain": [
              "<matplotlib.collections.PathCollection at 0x7f536c2174d0>"
            ]
          },
          "metadata": {},
          "execution_count": 446
        },
        {
          "output_type": "execute_result",
          "data": {
            "text/plain": [
              "Text(0.5, 0, 'Actual Salary')"
            ]
          },
          "metadata": {},
          "execution_count": 446
        },
        {
          "output_type": "execute_result",
          "data": {
            "text/plain": [
              "Text(0, 0.5, 'Predicted Salary')"
            ]
          },
          "metadata": {},
          "execution_count": 446
        },
        {
          "output_type": "stream",
          "name": "stdout",
          "text": [
            "\n",
            "y = 0.5776899823163674*x + 3697911.8155652895\n"
          ]
        },
        {
          "output_type": "display_data",
          "data": {
            "text/plain": [
              "<Figure size 432x288 with 1 Axes>"
            ],
            "image/png": "[encoded data removed]"
          },
          "metadata": {
            "needs_background": "light"
          }
        }
      ]
    },
    {
      "cell_type": "code",
      "source": [
        "from pathlib import Path \n",
        "filepath = Path('D:\\\\CSDS\\\\CSDS133\\\\predictions_lowercase.csv')  \n",
        "d.to_csv(filepath)"
      ],
      "metadata": {
        "id": "Hyb-sFLhOM8Y"
      },
      "id": "Hyb-sFLhOM8Y",
      "execution_count": null,
      "outputs": []
    }
  ],
  "metadata": {
    "kernelspec": {
      "display_name": "Python 3 (ipykernel)",
      "language": "python",
      "name": "python3"
    },
    "language_info": {
      "codemirror_mode": {
        "name": "ipython",
        "version": 3
      },
      "file_extension": ".py",
      "mimetype": "text/x-python",
      "name": "python",
      "nbconvert_exporter": "python",
      "pygments_lexer": "ipython3",
      "version": "3.9.7"
    },
    "colab": {
      "name": "FinalProject.ipynb",
      "provenance": [],
      "collapsed_sections": []
    }
  },
  "nbformat": 4,
  "nbformat_minor": 5
}